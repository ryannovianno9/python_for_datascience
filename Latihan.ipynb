{
  "nbformat": 4,
  "nbformat_minor": 0,
  "metadata": {
    "colab": {
      "provenance": [],
      "authorship_tag": "ABX9TyO0N/Hu557xXVZcfg5EoaeU",
      "include_colab_link": true
    },
    "kernelspec": {
      "name": "python3",
      "display_name": "Python 3"
    },
    "language_info": {
      "name": "python"
    }
  },
  "cells": [
    {
      "cell_type": "markdown",
      "metadata": {
        "id": "view-in-github",
        "colab_type": "text"
      },
      "source": [
        "<a href=\"https://colab.research.google.com/github/ryannovianno9/python_for_datascience/blob/main/Latihan.ipynb\" target=\"_parent\"><img src=\"https://colab.research.google.com/assets/colab-badge.svg\" alt=\"Open In Colab\"/></a>"
      ]
    },
    {
      "cell_type": "code",
      "execution_count": 1,
      "metadata": {
        "colab": {
          "base_uri": "https://localhost:8080/"
        },
        "id": "kCfaIp_8O9Zb",
        "outputId": "8bc573f0-5629-44ae-b74c-8cf2de85eb58"
      },
      "outputs": [
        {
          "output_type": "stream",
          "name": "stdout",
          "text": [
            "Masukkan jumlah jam per minggu: 20\n",
            "Masukkan upah per jam: 100000\n",
            "Pendapatan Budi sebelum membayar pajak = Rp10000000\n"
          ]
        }
      ],
      "source": [
        "jumlah_jam_per_minggu = int(input('Masukkan jumlah jam per minggu: '))\n",
        "upah_per_jam = int(input('Masukkan upah per jam: '))\n",
        "\n",
        "pendapatan_sebelum_pajak = jumlah_jam_per_minggu * upah_per_jam * 5\n",
        "print(f\"Pendapatan Budi sebelum membayar pajak = Rp{pendapatan_sebelum_pajak}\")"
      ]
    },
    {
      "cell_type": "code",
      "source": [
        "persentase_pajak = 0.14\n",
        "pendapatan_setelah_pajak = pendapatan_sebelum_pajak * (1 - persentase_pajak)\n",
        "print(f\"Pendapatan Budi setelah membayar pajak = Rp{pendapatan_setelah_pajak}\")\n",
        "print(f\"Pendapatan Budi sekarang = Rp{pendapatan_setelah_pajak}\")"
      ],
      "metadata": {
        "colab": {
          "base_uri": "https://localhost:8080/"
        },
        "id": "yAsmfLQAcY4Y",
        "outputId": "5beb3fe6-b1c0-4c66-e52c-9ff890e68584"
      },
      "execution_count": 2,
      "outputs": [
        {
          "output_type": "stream",
          "name": "stdout",
          "text": [
            "Pendapatan Budi setelah membayar pajak = Rp8600000.0\n",
            "Pendapatan Budi sekarang = Rp8600000.0\n"
          ]
        }
      ]
    },
    {
      "cell_type": "code",
      "source": [
        "persentase_pakaian_aksesoris = 0.1\n",
        "pengeluaran_pakaian_aksesoris = pendapatan_setelah_pajak * persentase_pakaian_aksesoris\n",
        "pendapatan_setelah_pajak = pendapatan_setelah_pajak * (1 - persentase_pakaian_aksesoris)\n",
        "print(f\"Pengeluaran untuk membeli pakaian dan aksesoris = Rp{pengeluaran_pakaian_aksesoris}\")\n",
        "print(f\"Pendapatan Budi sekarang = Rp{pendapatan_setelah_pajak}\")"
      ],
      "metadata": {
        "colab": {
          "base_uri": "https://localhost:8080/"
        },
        "id": "qP3pVZRIc_D5",
        "outputId": "702949a6-3906-4143-989d-f6862f06c915"
      },
      "execution_count": 3,
      "outputs": [
        {
          "output_type": "stream",
          "name": "stdout",
          "text": [
            "Pengeluaran untuk membeli pakaian dan aksesoris = Rp860000.0\n",
            "Pendapatan Budi sekarang = Rp7740000.0\n"
          ]
        }
      ]
    },
    {
      "cell_type": "code",
      "source": [
        "persentase_alat_tulis = 0.01\n",
        "pengeluaran_alat_tulis = pendapatan_setelah_pajak * persentase_alat_tulis\n",
        "pendapatan_setelah_pajak = pendapatan_setelah_pajak * (1 - persentase_alat_tulis)\n",
        "print(f\"Pengeluaran untuk membeli alat tulis = Rp{pengeluaran_alat_tulis}\")\n",
        "print(f\"Pendapatan Budi sekarang = Rp{pendapatan_setelah_pajak}\")"
      ],
      "metadata": {
        "colab": {
          "base_uri": "https://localhost:8080/"
        },
        "id": "qWH83cZZd3yj",
        "outputId": "caa9a3c8-ec61-48c3-b6e3-fa9b34fa568d"
      },
      "execution_count": 4,
      "outputs": [
        {
          "output_type": "stream",
          "name": "stdout",
          "text": [
            "Pengeluaran untuk membeli alat tulis = Rp77400.0\n",
            "Pendapatan Budi sekarang = Rp7662600.0\n"
          ]
        }
      ]
    },
    {
      "cell_type": "code",
      "source": [
        "persentase_sedekah = 0.25\n",
        "pengeluaran_sedekah = pendapatan_setelah_pajak * persentase_sedekah\n",
        "pendapatan_setelah_pajak = pendapatan_setelah_pajak * (1 - persentase_sedekah)\n",
        "print(f\"Pengeluaran untuk sedekah = Rp{pengeluaran_sedekah}\")\n",
        "print(f\"Pendapatan Budi sekarang = Rp{pendapatan_setelah_pajak}\")"
      ],
      "metadata": {
        "colab": {
          "base_uri": "https://localhost:8080/"
        },
        "id": "DkT_JS7ce_Xl",
        "outputId": "3882e42d-ed7b-4ab7-ac44-0e1bad768e9f"
      },
      "execution_count": 5,
      "outputs": [
        {
          "output_type": "stream",
          "name": "stdout",
          "text": [
            "Pengeluaran untuk sedekah = Rp1915650.0\n",
            "Pendapatan Budi sekarang = Rp5746950.0\n"
          ]
        }
      ]
    },
    {
      "cell_type": "code",
      "source": [
        "persentase_anak_yatim = 0.3\n",
        "pengeluaran_anak_yatim = pengeluaran_sedekah * persentase_anak_yatim\n",
        "print(f\"Pengeluaran untuk anak yatim = Rp{pengeluaran_anak_yatim}\")\n",
        "print(f\"Pendapatan Budi sekarang = Rp{pendapatan_setelah_pajak}\")"
      ],
      "metadata": {
        "colab": {
          "base_uri": "https://localhost:8080/"
        },
        "id": "WAoCBsdYgPOU",
        "outputId": "1f3ca2b3-0260-4ee8-ce76-cbfa26279918"
      },
      "execution_count": 6,
      "outputs": [
        {
          "output_type": "stream",
          "name": "stdout",
          "text": [
            "Pengeluaran untuk anak yatim = Rp574695.0\n",
            "Pendapatan Budi sekarang = Rp5746950.0\n"
          ]
        }
      ]
    },
    {
      "cell_type": "code",
      "source": [
        "pengeluaran_dhuafa = pengeluaran_sedekah - pengeluaran_anak_yatim\n",
        "print(f\"Pengeluaran untuk dhuafa = Rp{pengeluaran_dhuafa}\")\n",
        "print(f\"Pendapatan Budi sekarang = Rp{pendapatan_setelah_pajak}\")"
      ],
      "metadata": {
        "colab": {
          "base_uri": "https://localhost:8080/"
        },
        "id": "orFEm7xxhuTW",
        "outputId": "dcee0c6e-a627-4fae-fe36-5c06ba219e38"
      },
      "execution_count": 9,
      "outputs": [
        {
          "output_type": "stream",
          "name": "stdout",
          "text": [
            "Pengeluaran untuk dhuafa = Rp1340955.0\n",
            "Pendapatan Budi sekarang = Rp5746950.0\n"
          ]
        }
      ]
    }
  ]
}